{
  "nbformat": 4,
  "nbformat_minor": 0,
  "metadata": {
    "colab": {
      "provenance": [],
      "authorship_tag": "ABX9TyMyAPt/zPQrS9KP2QDruDr+",
      "include_colab_link": true
    },
    "kernelspec": {
      "name": "python3",
      "display_name": "Python 3"
    },
    "language_info": {
      "name": "python"
    }
  },
  "cells": [
    {
      "cell_type": "markdown",
      "metadata": {
        "id": "view-in-github",
        "colab_type": "text"
      },
      "source": [
        "<a href=\"https://colab.research.google.com/github/nattaran/HealthTequity-LLM/blob/main/generateBloodPressureData.ipynb\" target=\"_parent\"><img src=\"https://colab.research.google.com/assets/colab-badge.svg\" alt=\"Open In Colab\"/></a>"
      ]
    },
    {
      "cell_type": "markdown",
      "source": [
        "🩺 Generate Synthetic Blood Pressure Dataset\n",
        "This notebook generates a realistic 30-day blood pressure dataset\n",
        "for one individual (age, sex, systolic, diastolic)\n",
        "and saves it with a descriptive filename including the age and sex.\n",
        "\n",
        "Example output file:\n",
        "synthetic_bp_45_female.csv\n",
        "\n",
        "Author: Nasrin Attaran\n",
        "Created: 2025-10-19\n",
        "Project: HealthTequity Voice Pipeline\n"
      ],
      "metadata": {
        "id": "8JjRgBsw9d-W"
      }
    },
    {
      "cell_type": "markdown",
      "source": [
        "# **🧰 1. Setup & Imports**"
      ],
      "metadata": {
        "id": "wVF2esJqwfzk"
      }
    },
    {
      "cell_type": "code",
      "source": [
        "import pandas as pd\n",
        "import numpy as np\n",
        "from datetime import datetime, timedelta\n",
        "from pathlib import Path\n",
        "from google.colab import drive\n"
      ],
      "metadata": {
        "id": "1SkpniBMwexo"
      },
      "execution_count": null,
      "outputs": []
    },
    {
      "cell_type": "markdown",
      "source": [
        "# **📁 2. Mount Google Drive**"
      ],
      "metadata": {
        "id": "2ksjdEBGwkN1"
      }
    },
    {
      "cell_type": "code",
      "source": [
        "# Mount Google Drive to save output CSV file\n",
        "drive.mount('/content/drive')"
      ],
      "metadata": {
        "id": "1g0F2hRLwkdq"
      },
      "execution_count": null,
      "outputs": []
    },
    {
      "cell_type": "markdown",
      "source": [
        "# **📂 3. Define Output Folder**"
      ],
      "metadata": {
        "id": "HRBrwZoS0Tqn"
      }
    },
    {
      "cell_type": "code",
      "source": [
        "# Create directory to save synthetic dataset\n",
        "DATA_DIR = Path(\"/content/drive/MyDrive/HealthTequity-LLM/data/synthetic_csv\")\n",
        "DATA_DIR.mkdir(parents=True, exist_ok=True)"
      ],
      "metadata": {
        "id": "ItGx5o4x1st9"
      },
      "execution_count": null,
      "outputs": []
    },
    {
      "cell_type": "markdown",
      "source": [
        "# **⚙️ 4. Define User Parameters**"
      ],
      "metadata": {
        "id": "U0tdolCX1vbY"
      }
    },
    {
      "cell_type": "code",
      "source": [
        "# Synthetic patient profile\n",
        "# Synthetic patient profile\n",
        "age = 77\n",
        "sex = \"male\"\n",
        "num_days = 30\n",
        "\n",
        "# Set random seed for reproducibility\n",
        "np.random.seed(42)"
      ],
      "metadata": {
        "id": "6mhi5piV1dfN"
      },
      "execution_count": null,
      "outputs": []
    },
    {
      "cell_type": "markdown",
      "source": [
        "# **📆 5. Generate Dates**"
      ],
      "metadata": {
        "id": "LI8cnQjv15bR"
      }
    },
    {
      "cell_type": "code",
      "source": [
        "# Generate list of dates for past 30 days\n",
        "start_date = datetime.today() - timedelta(days=num_days - 1)\n",
        "dates = pd.date_range(start=start_date, periods=num_days)"
      ],
      "metadata": {
        "id": "Jxk4U0Eh1_af"
      },
      "execution_count": null,
      "outputs": []
    },
    {
      "cell_type": "markdown",
      "source": [
        "# **🔀 6. Simulate Blood Pressure States**"
      ],
      "metadata": {
        "id": "gIHH4fKR2BTf"
      }
    },
    {
      "cell_type": "code",
      "source": [
        "# Randomly assign \"normal\" or \"hypertensive\" state to each day\n",
        "states = np.random.choice([\"normal\", \"hypertensive\"], size=num_days, p=[0.6, 0.4])\n"
      ],
      "metadata": {
        "id": "ENa9jJDD2HaH"
      },
      "execution_count": null,
      "outputs": []
    },
    {
      "cell_type": "markdown",
      "source": [
        "\n",
        "# **🧪 7. Generate Blood Pressure Readings**\n"
      ],
      "metadata": {
        "id": "kQ0q0ySQ2LzA"
      }
    },
    {
      "cell_type": "code",
      "source": [
        "systolic = []\n",
        "diastolic = []\n",
        "\n",
        "for state in states:\n",
        "    if state == \"normal\":\n",
        "        sys = np.random.normal(118, 6)  # Normal systolic ~118±6 mmHg\n",
        "        dia = np.random.normal(76, 4)   # Normal diastolic ~76±4 mmHg\n",
        "    else:  # Hypertensive\n",
        "        sys = np.random.normal(148, 10)  # Hypertensive systolic ~148±10 mmHg\n",
        "        dia = np.random.normal(96, 6)    # Hypertensive diastolic ~96±6 mmHg\n",
        "\n",
        "    systolic.append(round(sys))\n",
        "    diastolic.append(round(dia))\n"
      ],
      "metadata": {
        "id": "oJkfQWhB2ScZ"
      },
      "execution_count": null,
      "outputs": []
    },
    {
      "cell_type": "markdown",
      "source": [
        "# **🧾 8. Create DataFrame**"
      ],
      "metadata": {
        "id": "FmBVU8nY2bTI"
      }
    },
    {
      "cell_type": "code",
      "source": [
        "# Build dataset\n",
        "df = pd.DataFrame({\n",
        "    \"date\": [d.strftime(\"%Y-%m-%d\") for d in dates],\n",
        "    \"age\": age,\n",
        "    \"sex\": sex,\n",
        "    \"systolic_mmHg\": systolic,\n",
        "    \"diastolic_mmHg\": diastolic,\n",
        "    \"bp_category\": states\n",
        "})\n"
      ],
      "metadata": {
        "id": "wZHrzAXl2c4a"
      },
      "execution_count": null,
      "outputs": []
    },
    {
      "cell_type": "markdown",
      "source": [
        "# **💾 9. Save Dataset to Drive**"
      ],
      "metadata": {
        "id": "qnQXXLXW2i2l"
      }
    },
    {
      "cell_type": "code",
      "source": [
        "# Define filename and save CSV\n",
        "filename = f\"synthetic_bp_{age}_{sex.lower()}.csv\"\n",
        "output_csv = DATA_DIR / filename\n",
        "df.to_csv(output_csv, index=False, encoding=\"utf-8-sig\")\n",
        "\n",
        "print(f\"✅ File saved to Google Drive: {output_csv.resolve()}\")\n"
      ],
      "metadata": {
        "id": "0SzfaQ9H2nar"
      },
      "execution_count": null,
      "outputs": []
    },
    {
      "cell_type": "markdown",
      "source": [
        "# **👀 10. Display Sample & Stats**"
      ],
      "metadata": {
        "id": "saErPJoH2qsV"
      }
    },
    {
      "cell_type": "code",
      "source": [
        "# Preview first 10 rows\n",
        "display(df.head(10))\n",
        "\n",
        "# Show category distribution (normal vs hypertensive)\n",
        "print(\"\\n📊 Category distribution:\")\n",
        "print(df[\"bp_category\"].value_counts())\n"
      ],
      "metadata": {
        "id": "9UEBVx7H2-_i"
      },
      "execution_count": null,
      "outputs": []
    }
  ]
}