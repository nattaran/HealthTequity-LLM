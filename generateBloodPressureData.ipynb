{
  "nbformat": 4,
  "nbformat_minor": 0,
  "metadata": {
    "colab": {
      "provenance": [],
      "authorship_tag": "ABX9TyMyAPt/zPQrS9KP2QDruDr+",
      "include_colab_link": true
    },
    "kernelspec": {
      "name": "python3",
      "display_name": "Python 3"
    },
    "language_info": {
      "name": "python"
    }
  },
  "cells": [
    {
      "cell_type": "markdown",
      "metadata": {
        "id": "view-in-github",
        "colab_type": "text"
      },
      "source": [
        "<a href=\"https://colab.research.google.com/github/nattaran/HealthTequity-LLM/blob/main/generateBloodPressureData.ipynb\" target=\"_parent\"><img src=\"https://colab.research.google.com/assets/colab-badge.svg\" alt=\"Open In Colab\"/></a>"
      ]
    },
    {
      "cell_type": "markdown",
      "source": [
        "🩺 Generate Synthetic Blood Pressure Dataset\n",
        "This notebook generates a realistic 30-day blood pressure dataset\n",
        "for one individual (age, sex, systolic, diastolic)\n",
        "and saves it with a descriptive filename including the age and sex.\n",
        "\n",
        "Example output file:\n",
        "synthetic_bp_45_female.csv\n",
        "\n",
        "Author: Nasrin Attaran\n",
        "Created: 2025-10-19\n",
        "Project: HealthTequity Voice Pipeline\n"
      ],
      "metadata": {
        "id": "8JjRgBsw9d-W"
      }
    },
    {
      "cell_type": "markdown",
      "source": [
        "# **🧰 1. Setup & Imports**"
      ],
      "metadata": {
        "id": "wVF2esJqwfzk"
      }
    },
    {
      "cell_type": "code",
      "source": [
        "import pandas as pd\n",
        "import numpy as np\n",
        "from datetime import datetime, timedelta\n",
        "from pathlib import Path\n",
        "from google.colab import drive\n"
      ],
      "metadata": {
        "id": "1SkpniBMwexo"
      },
      "execution_count": 10,
      "outputs": []
    },
    {
      "cell_type": "markdown",
      "source": [
        "# **📁 2. Mount Google Drive**"
      ],
      "metadata": {
        "id": "2ksjdEBGwkN1"
      }
    },
    {
      "cell_type": "code",
      "source": [
        "# Mount Google Drive to save output CSV file\n",
        "drive.mount('/content/drive')"
      ],
      "metadata": {
        "colab": {
          "base_uri": "https://localhost:8080/"
        },
        "id": "1g0F2hRLwkdq",
        "outputId": "0b459a52-c3b1-40d6-d22f-b6f6f9f1349d"
      },
      "execution_count": 11,
      "outputs": [
        {
          "output_type": "stream",
          "name": "stdout",
          "text": [
            "Drive already mounted at /content/drive; to attempt to forcibly remount, call drive.mount(\"/content/drive\", force_remount=True).\n"
          ]
        }
      ]
    },
    {
      "cell_type": "markdown",
      "source": [
        "# **📂 3. Define Output Folder**"
      ],
      "metadata": {
        "id": "HRBrwZoS0Tqn"
      }
    },
    {
      "cell_type": "code",
      "source": [
        "# Create directory to save synthetic dataset\n",
        "DATA_DIR = Path(\"/content/drive/MyDrive/HealthTequity-LLM/data/synthetic_csv\")\n",
        "DATA_DIR.mkdir(parents=True, exist_ok=True)"
      ],
      "metadata": {
        "id": "ItGx5o4x1st9"
      },
      "execution_count": 12,
      "outputs": []
    },
    {
      "cell_type": "markdown",
      "source": [
        "# **⚙️ 4. Define User Parameters**"
      ],
      "metadata": {
        "id": "U0tdolCX1vbY"
      }
    },
    {
      "cell_type": "code",
      "source": [
        "# Synthetic patient profile\n",
        "# Synthetic patient profile\n",
        "age = 77\n",
        "sex = \"male\"\n",
        "num_days = 30\n",
        "\n",
        "# Set random seed for reproducibility\n",
        "np.random.seed(42)"
      ],
      "metadata": {
        "id": "6mhi5piV1dfN"
      },
      "execution_count": 21,
      "outputs": []
    },
    {
      "cell_type": "markdown",
      "source": [
        "# **📆 5. Generate Dates**"
      ],
      "metadata": {
        "id": "LI8cnQjv15bR"
      }
    },
    {
      "cell_type": "code",
      "source": [
        "# Generate list of dates for past 30 days\n",
        "start_date = datetime.today() - timedelta(days=num_days - 1)\n",
        "dates = pd.date_range(start=start_date, periods=num_days)"
      ],
      "metadata": {
        "id": "Jxk4U0Eh1_af"
      },
      "execution_count": 22,
      "outputs": []
    },
    {
      "cell_type": "markdown",
      "source": [
        "# **🔀 6. Simulate Blood Pressure States**"
      ],
      "metadata": {
        "id": "gIHH4fKR2BTf"
      }
    },
    {
      "cell_type": "code",
      "source": [
        "# Randomly assign \"normal\" or \"hypertensive\" state to each day\n",
        "states = np.random.choice([\"normal\", \"hypertensive\"], size=num_days, p=[0.6, 0.4])\n"
      ],
      "metadata": {
        "id": "ENa9jJDD2HaH"
      },
      "execution_count": 24,
      "outputs": []
    },
    {
      "cell_type": "markdown",
      "source": [
        "\n",
        "# **🧪 7. Generate Blood Pressure Readings**\n"
      ],
      "metadata": {
        "id": "kQ0q0ySQ2LzA"
      }
    },
    {
      "cell_type": "code",
      "source": [
        "systolic = []\n",
        "diastolic = []\n",
        "\n",
        "for state in states:\n",
        "    if state == \"normal\":\n",
        "        sys = np.random.normal(118, 6)  # Normal systolic ~118±6 mmHg\n",
        "        dia = np.random.normal(76, 4)   # Normal diastolic ~76±4 mmHg\n",
        "    else:  # Hypertensive\n",
        "        sys = np.random.normal(148, 10)  # Hypertensive systolic ~148±10 mmHg\n",
        "        dia = np.random.normal(96, 6)    # Hypertensive diastolic ~96±6 mmHg\n",
        "\n",
        "    systolic.append(round(sys))\n",
        "    diastolic.append(round(dia))\n"
      ],
      "metadata": {
        "id": "oJkfQWhB2ScZ"
      },
      "execution_count": 25,
      "outputs": []
    },
    {
      "cell_type": "markdown",
      "source": [
        "# **🧾 8. Create DataFrame**"
      ],
      "metadata": {
        "id": "FmBVU8nY2bTI"
      }
    },
    {
      "cell_type": "code",
      "source": [
        "# Build dataset\n",
        "df = pd.DataFrame({\n",
        "    \"date\": [d.strftime(\"%Y-%m-%d\") for d in dates],\n",
        "    \"age\": age,\n",
        "    \"sex\": sex,\n",
        "    \"systolic_mmHg\": systolic,\n",
        "    \"diastolic_mmHg\": diastolic,\n",
        "    \"bp_category\": states\n",
        "})\n"
      ],
      "metadata": {
        "id": "wZHrzAXl2c4a"
      },
      "execution_count": 26,
      "outputs": []
    },
    {
      "cell_type": "markdown",
      "source": [
        "# **💾 9. Save Dataset to Drive**"
      ],
      "metadata": {
        "id": "qnQXXLXW2i2l"
      }
    },
    {
      "cell_type": "code",
      "source": [
        "# Define filename and save CSV\n",
        "filename = f\"synthetic_bp_{age}_{sex.lower()}.csv\"\n",
        "output_csv = DATA_DIR / filename\n",
        "df.to_csv(output_csv, index=False, encoding=\"utf-8-sig\")\n",
        "\n",
        "print(f\"✅ File saved to Google Drive: {output_csv.resolve()}\")\n"
      ],
      "metadata": {
        "colab": {
          "base_uri": "https://localhost:8080/"
        },
        "id": "0SzfaQ9H2nar",
        "outputId": "0dae5eac-6aae-482c-f0ba-f526d377c638"
      },
      "execution_count": 27,
      "outputs": [
        {
          "output_type": "stream",
          "name": "stdout",
          "text": [
            "✅ File saved to Google Drive: /content/drive/MyDrive/HealthTequity-LLM/data/synthetic_csv/synthetic_bp_77_male.csv\n"
          ]
        }
      ]
    },
    {
      "cell_type": "markdown",
      "source": [
        "# **👀 10. Display Sample & Stats**"
      ],
      "metadata": {
        "id": "saErPJoH2qsV"
      }
    },
    {
      "cell_type": "code",
      "source": [
        "# Preview first 10 rows\n",
        "display(df.head(10))\n",
        "\n",
        "# Show category distribution (normal vs hypertensive)\n",
        "print(\"\\n📊 Category distribution:\")\n",
        "print(df[\"bp_category\"].value_counts())\n"
      ],
      "metadata": {
        "colab": {
          "base_uri": "https://localhost:8080/",
          "height": 467
        },
        "id": "9UEBVx7H2-_i",
        "outputId": "10ef3705-5a48-4636-d0d2-ff4e26ffbbf1"
      },
      "execution_count": 28,
      "outputs": [
        {
          "output_type": "display_data",
          "data": {
            "text/plain": [
              "         date  age   sex  systolic_mmHg  diastolic_mmHg   bp_category\n",
              "0  2025-09-21   77  male            133              92  hypertensive\n",
              "1  2025-09-22   77  male            115              80        normal\n",
              "2  2025-09-23   77  male            120              69        normal\n",
              "3  2025-09-24   77  male            151              94  hypertensive\n",
              "4  2025-09-25   77  male            141             100  hypertensive\n",
              "5  2025-09-26   77  male            158             102  hypertensive\n",
              "6  2025-09-27   77  male            113              75        normal\n",
              "7  2025-09-28   77  male            120              80        normal\n",
              "8  2025-09-29   77  male            143              95  hypertensive\n",
              "9  2025-09-30   77  male            111              71        normal"
            ],
            "text/html": [
              "\n",
              "  <div id=\"df-612185a0-dc4c-43a6-81e3-fa5393adda0a\" class=\"colab-df-container\">\n",
              "    <div>\n",
              "<style scoped>\n",
              "    .dataframe tbody tr th:only-of-type {\n",
              "        vertical-align: middle;\n",
              "    }\n",
              "\n",
              "    .dataframe tbody tr th {\n",
              "        vertical-align: top;\n",
              "    }\n",
              "\n",
              "    .dataframe thead th {\n",
              "        text-align: right;\n",
              "    }\n",
              "</style>\n",
              "<table border=\"1\" class=\"dataframe\">\n",
              "  <thead>\n",
              "    <tr style=\"text-align: right;\">\n",
              "      <th></th>\n",
              "      <th>date</th>\n",
              "      <th>age</th>\n",
              "      <th>sex</th>\n",
              "      <th>systolic_mmHg</th>\n",
              "      <th>diastolic_mmHg</th>\n",
              "      <th>bp_category</th>\n",
              "    </tr>\n",
              "  </thead>\n",
              "  <tbody>\n",
              "    <tr>\n",
              "      <th>0</th>\n",
              "      <td>2025-09-21</td>\n",
              "      <td>77</td>\n",
              "      <td>male</td>\n",
              "      <td>133</td>\n",
              "      <td>92</td>\n",
              "      <td>hypertensive</td>\n",
              "    </tr>\n",
              "    <tr>\n",
              "      <th>1</th>\n",
              "      <td>2025-09-22</td>\n",
              "      <td>77</td>\n",
              "      <td>male</td>\n",
              "      <td>115</td>\n",
              "      <td>80</td>\n",
              "      <td>normal</td>\n",
              "    </tr>\n",
              "    <tr>\n",
              "      <th>2</th>\n",
              "      <td>2025-09-23</td>\n",
              "      <td>77</td>\n",
              "      <td>male</td>\n",
              "      <td>120</td>\n",
              "      <td>69</td>\n",
              "      <td>normal</td>\n",
              "    </tr>\n",
              "    <tr>\n",
              "      <th>3</th>\n",
              "      <td>2025-09-24</td>\n",
              "      <td>77</td>\n",
              "      <td>male</td>\n",
              "      <td>151</td>\n",
              "      <td>94</td>\n",
              "      <td>hypertensive</td>\n",
              "    </tr>\n",
              "    <tr>\n",
              "      <th>4</th>\n",
              "      <td>2025-09-25</td>\n",
              "      <td>77</td>\n",
              "      <td>male</td>\n",
              "      <td>141</td>\n",
              "      <td>100</td>\n",
              "      <td>hypertensive</td>\n",
              "    </tr>\n",
              "    <tr>\n",
              "      <th>5</th>\n",
              "      <td>2025-09-26</td>\n",
              "      <td>77</td>\n",
              "      <td>male</td>\n",
              "      <td>158</td>\n",
              "      <td>102</td>\n",
              "      <td>hypertensive</td>\n",
              "    </tr>\n",
              "    <tr>\n",
              "      <th>6</th>\n",
              "      <td>2025-09-27</td>\n",
              "      <td>77</td>\n",
              "      <td>male</td>\n",
              "      <td>113</td>\n",
              "      <td>75</td>\n",
              "      <td>normal</td>\n",
              "    </tr>\n",
              "    <tr>\n",
              "      <th>7</th>\n",
              "      <td>2025-09-28</td>\n",
              "      <td>77</td>\n",
              "      <td>male</td>\n",
              "      <td>120</td>\n",
              "      <td>80</td>\n",
              "      <td>normal</td>\n",
              "    </tr>\n",
              "    <tr>\n",
              "      <th>8</th>\n",
              "      <td>2025-09-29</td>\n",
              "      <td>77</td>\n",
              "      <td>male</td>\n",
              "      <td>143</td>\n",
              "      <td>95</td>\n",
              "      <td>hypertensive</td>\n",
              "    </tr>\n",
              "    <tr>\n",
              "      <th>9</th>\n",
              "      <td>2025-09-30</td>\n",
              "      <td>77</td>\n",
              "      <td>male</td>\n",
              "      <td>111</td>\n",
              "      <td>71</td>\n",
              "      <td>normal</td>\n",
              "    </tr>\n",
              "  </tbody>\n",
              "</table>\n",
              "</div>\n",
              "    <div class=\"colab-df-buttons\">\n",
              "\n",
              "  <div class=\"colab-df-container\">\n",
              "    <button class=\"colab-df-convert\" onclick=\"convertToInteractive('df-612185a0-dc4c-43a6-81e3-fa5393adda0a')\"\n",
              "            title=\"Convert this dataframe to an interactive table.\"\n",
              "            style=\"display:none;\">\n",
              "\n",
              "  <svg xmlns=\"http://www.w3.org/2000/svg\" height=\"24px\" viewBox=\"0 -960 960 960\">\n",
              "    <path d=\"M120-120v-720h720v720H120Zm60-500h600v-160H180v160Zm220 220h160v-160H400v160Zm0 220h160v-160H400v160ZM180-400h160v-160H180v160Zm440 0h160v-160H620v160ZM180-180h160v-160H180v160Zm440 0h160v-160H620v160Z\"/>\n",
              "  </svg>\n",
              "    </button>\n",
              "\n",
              "  <style>\n",
              "    .colab-df-container {\n",
              "      display:flex;\n",
              "      gap: 12px;\n",
              "    }\n",
              "\n",
              "    .colab-df-convert {\n",
              "      background-color: #E8F0FE;\n",
              "      border: none;\n",
              "      border-radius: 50%;\n",
              "      cursor: pointer;\n",
              "      display: none;\n",
              "      fill: #1967D2;\n",
              "      height: 32px;\n",
              "      padding: 0 0 0 0;\n",
              "      width: 32px;\n",
              "    }\n",
              "\n",
              "    .colab-df-convert:hover {\n",
              "      background-color: #E2EBFA;\n",
              "      box-shadow: 0px 1px 2px rgba(60, 64, 67, 0.3), 0px 1px 3px 1px rgba(60, 64, 67, 0.15);\n",
              "      fill: #174EA6;\n",
              "    }\n",
              "\n",
              "    .colab-df-buttons div {\n",
              "      margin-bottom: 4px;\n",
              "    }\n",
              "\n",
              "    [theme=dark] .colab-df-convert {\n",
              "      background-color: #3B4455;\n",
              "      fill: #D2E3FC;\n",
              "    }\n",
              "\n",
              "    [theme=dark] .colab-df-convert:hover {\n",
              "      background-color: #434B5C;\n",
              "      box-shadow: 0px 1px 3px 1px rgba(0, 0, 0, 0.15);\n",
              "      filter: drop-shadow(0px 1px 2px rgba(0, 0, 0, 0.3));\n",
              "      fill: #FFFFFF;\n",
              "    }\n",
              "  </style>\n",
              "\n",
              "    <script>\n",
              "      const buttonEl =\n",
              "        document.querySelector('#df-612185a0-dc4c-43a6-81e3-fa5393adda0a button.colab-df-convert');\n",
              "      buttonEl.style.display =\n",
              "        google.colab.kernel.accessAllowed ? 'block' : 'none';\n",
              "\n",
              "      async function convertToInteractive(key) {\n",
              "        const element = document.querySelector('#df-612185a0-dc4c-43a6-81e3-fa5393adda0a');\n",
              "        const dataTable =\n",
              "          await google.colab.kernel.invokeFunction('convertToInteractive',\n",
              "                                                    [key], {});\n",
              "        if (!dataTable) return;\n",
              "\n",
              "        const docLinkHtml = 'Like what you see? Visit the ' +\n",
              "          '<a target=\"_blank\" href=https://colab.research.google.com/notebooks/data_table.ipynb>data table notebook</a>'\n",
              "          + ' to learn more about interactive tables.';\n",
              "        element.innerHTML = '';\n",
              "        dataTable['output_type'] = 'display_data';\n",
              "        await google.colab.output.renderOutput(dataTable, element);\n",
              "        const docLink = document.createElement('div');\n",
              "        docLink.innerHTML = docLinkHtml;\n",
              "        element.appendChild(docLink);\n",
              "      }\n",
              "    </script>\n",
              "  </div>\n",
              "\n",
              "\n",
              "    <div id=\"df-5c02dfbd-ef4d-416e-ab20-27f292278538\">\n",
              "      <button class=\"colab-df-quickchart\" onclick=\"quickchart('df-5c02dfbd-ef4d-416e-ab20-27f292278538')\"\n",
              "                title=\"Suggest charts\"\n",
              "                style=\"display:none;\">\n",
              "\n",
              "<svg xmlns=\"http://www.w3.org/2000/svg\" height=\"24px\"viewBox=\"0 0 24 24\"\n",
              "     width=\"24px\">\n",
              "    <g>\n",
              "        <path d=\"M19 3H5c-1.1 0-2 .9-2 2v14c0 1.1.9 2 2 2h14c1.1 0 2-.9 2-2V5c0-1.1-.9-2-2-2zM9 17H7v-7h2v7zm4 0h-2V7h2v10zm4 0h-2v-4h2v4z\"/>\n",
              "    </g>\n",
              "</svg>\n",
              "      </button>\n",
              "\n",
              "<style>\n",
              "  .colab-df-quickchart {\n",
              "      --bg-color: #E8F0FE;\n",
              "      --fill-color: #1967D2;\n",
              "      --hover-bg-color: #E2EBFA;\n",
              "      --hover-fill-color: #174EA6;\n",
              "      --disabled-fill-color: #AAA;\n",
              "      --disabled-bg-color: #DDD;\n",
              "  }\n",
              "\n",
              "  [theme=dark] .colab-df-quickchart {\n",
              "      --bg-color: #3B4455;\n",
              "      --fill-color: #D2E3FC;\n",
              "      --hover-bg-color: #434B5C;\n",
              "      --hover-fill-color: #FFFFFF;\n",
              "      --disabled-bg-color: #3B4455;\n",
              "      --disabled-fill-color: #666;\n",
              "  }\n",
              "\n",
              "  .colab-df-quickchart {\n",
              "    background-color: var(--bg-color);\n",
              "    border: none;\n",
              "    border-radius: 50%;\n",
              "    cursor: pointer;\n",
              "    display: none;\n",
              "    fill: var(--fill-color);\n",
              "    height: 32px;\n",
              "    padding: 0;\n",
              "    width: 32px;\n",
              "  }\n",
              "\n",
              "  .colab-df-quickchart:hover {\n",
              "    background-color: var(--hover-bg-color);\n",
              "    box-shadow: 0 1px 2px rgba(60, 64, 67, 0.3), 0 1px 3px 1px rgba(60, 64, 67, 0.15);\n",
              "    fill: var(--button-hover-fill-color);\n",
              "  }\n",
              "\n",
              "  .colab-df-quickchart-complete:disabled,\n",
              "  .colab-df-quickchart-complete:disabled:hover {\n",
              "    background-color: var(--disabled-bg-color);\n",
              "    fill: var(--disabled-fill-color);\n",
              "    box-shadow: none;\n",
              "  }\n",
              "\n",
              "  .colab-df-spinner {\n",
              "    border: 2px solid var(--fill-color);\n",
              "    border-color: transparent;\n",
              "    border-bottom-color: var(--fill-color);\n",
              "    animation:\n",
              "      spin 1s steps(1) infinite;\n",
              "  }\n",
              "\n",
              "  @keyframes spin {\n",
              "    0% {\n",
              "      border-color: transparent;\n",
              "      border-bottom-color: var(--fill-color);\n",
              "      border-left-color: var(--fill-color);\n",
              "    }\n",
              "    20% {\n",
              "      border-color: transparent;\n",
              "      border-left-color: var(--fill-color);\n",
              "      border-top-color: var(--fill-color);\n",
              "    }\n",
              "    30% {\n",
              "      border-color: transparent;\n",
              "      border-left-color: var(--fill-color);\n",
              "      border-top-color: var(--fill-color);\n",
              "      border-right-color: var(--fill-color);\n",
              "    }\n",
              "    40% {\n",
              "      border-color: transparent;\n",
              "      border-right-color: var(--fill-color);\n",
              "      border-top-color: var(--fill-color);\n",
              "    }\n",
              "    60% {\n",
              "      border-color: transparent;\n",
              "      border-right-color: var(--fill-color);\n",
              "    }\n",
              "    80% {\n",
              "      border-color: transparent;\n",
              "      border-right-color: var(--fill-color);\n",
              "      border-bottom-color: var(--fill-color);\n",
              "    }\n",
              "    90% {\n",
              "      border-color: transparent;\n",
              "      border-bottom-color: var(--fill-color);\n",
              "    }\n",
              "  }\n",
              "</style>\n",
              "\n",
              "      <script>\n",
              "        async function quickchart(key) {\n",
              "          const quickchartButtonEl =\n",
              "            document.querySelector('#' + key + ' button');\n",
              "          quickchartButtonEl.disabled = true;  // To prevent multiple clicks.\n",
              "          quickchartButtonEl.classList.add('colab-df-spinner');\n",
              "          try {\n",
              "            const charts = await google.colab.kernel.invokeFunction(\n",
              "                'suggestCharts', [key], {});\n",
              "          } catch (error) {\n",
              "            console.error('Error during call to suggestCharts:', error);\n",
              "          }\n",
              "          quickchartButtonEl.classList.remove('colab-df-spinner');\n",
              "          quickchartButtonEl.classList.add('colab-df-quickchart-complete');\n",
              "        }\n",
              "        (() => {\n",
              "          let quickchartButtonEl =\n",
              "            document.querySelector('#df-5c02dfbd-ef4d-416e-ab20-27f292278538 button');\n",
              "          quickchartButtonEl.style.display =\n",
              "            google.colab.kernel.accessAllowed ? 'block' : 'none';\n",
              "        })();\n",
              "      </script>\n",
              "    </div>\n",
              "\n",
              "    </div>\n",
              "  </div>\n"
            ],
            "application/vnd.google.colaboratory.intrinsic+json": {
              "type": "dataframe",
              "summary": "{\n  \"name\": \"print(df[\\\"bp_category\\\"]\",\n  \"rows\": 10,\n  \"fields\": [\n    {\n      \"column\": \"date\",\n      \"properties\": {\n        \"dtype\": \"object\",\n        \"num_unique_values\": 10,\n        \"samples\": [\n          \"2025-09-29\",\n          \"2025-09-22\",\n          \"2025-09-26\"\n        ],\n        \"semantic_type\": \"\",\n        \"description\": \"\"\n      }\n    },\n    {\n      \"column\": \"age\",\n      \"properties\": {\n        \"dtype\": \"number\",\n        \"std\": 0,\n        \"min\": 77,\n        \"max\": 77,\n        \"num_unique_values\": 1,\n        \"samples\": [\n          77\n        ],\n        \"semantic_type\": \"\",\n        \"description\": \"\"\n      }\n    },\n    {\n      \"column\": \"sex\",\n      \"properties\": {\n        \"dtype\": \"category\",\n        \"num_unique_values\": 1,\n        \"samples\": [\n          \"male\"\n        ],\n        \"semantic_type\": \"\",\n        \"description\": \"\"\n      }\n    },\n    {\n      \"column\": \"systolic_mmHg\",\n      \"properties\": {\n        \"dtype\": \"number\",\n        \"std\": 16,\n        \"min\": 111,\n        \"max\": 158,\n        \"num_unique_values\": 9,\n        \"samples\": [\n          143\n        ],\n        \"semantic_type\": \"\",\n        \"description\": \"\"\n      }\n    },\n    {\n      \"column\": \"diastolic_mmHg\",\n      \"properties\": {\n        \"dtype\": \"number\",\n        \"std\": 12,\n        \"min\": 69,\n        \"max\": 102,\n        \"num_unique_values\": 9,\n        \"samples\": [\n          95\n        ],\n        \"semantic_type\": \"\",\n        \"description\": \"\"\n      }\n    },\n    {\n      \"column\": \"bp_category\",\n      \"properties\": {\n        \"dtype\": \"category\",\n        \"num_unique_values\": 2,\n        \"samples\": [\n          \"normal\"\n        ],\n        \"semantic_type\": \"\",\n        \"description\": \"\"\n      }\n    }\n  ]\n}"
            }
          },
          "metadata": {}
        },
        {
          "output_type": "stream",
          "name": "stdout",
          "text": [
            "\n",
            "📊 Category distribution:\n",
            "bp_category\n",
            "normal          18\n",
            "hypertensive    12\n",
            "Name: count, dtype: int64\n"
          ]
        }
      ]
    }
  ]
}