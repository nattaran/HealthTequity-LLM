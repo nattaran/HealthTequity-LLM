{
  "nbformat": 4,
  "nbformat_minor": 0,
  "metadata": {
    "colab": {
      "provenance": [],
      "include_colab_link": true
    },
    "kernelspec": {
      "name": "python3",
      "display_name": "Python 3"
    },
    "language_info": {
      "name": "python"
    }
  },
  "cells": [
    {
      "cell_type": "markdown",
      "metadata": {
        "id": "view-in-github",
        "colab_type": "text"
      },
      "source": [
        "<a href=\"https://colab.research.google.com/github/nattaran/HealthTequity-LLM/blob/main/Generate_Spanish_Audio.ipynb\" target=\"_parent\"><img src=\"https://colab.research.google.com/assets/colab-badge.svg\" alt=\"Open In Colab\"/></a>"
      ]
    },
    {
      "cell_type": "markdown",
      "source": [
        "# 🎧 Generate Spanish Audio for Medical Questions  \n",
        "### 🩺 HealthTequity Case Study – Synthetic Dataset Creation\n",
        "\n",
        "This notebook supports the **HealthTequity LLM pipeline** by:\n",
        "\n",
        "- ✅ Translating **English medical questions** into **Spanish**\n",
        "- 🔊 Generating **spoken Spanish audio** (`.wav`) for each question using `gTTS`\n",
        "- 🗂 Saving the Spanish transcription and audio filename in a CSV (`ground_truth.csv`) for later **ASR evaluation**\n",
        "\n",
        "---\n",
        "\n",
        "### 📁 Folder Structure\n",
        "\n",
        "All files are stored under your project root at:\n",
        "```plaintext\n",
        "/content/drive/MyDrive/HealthTequity-LLM/\n"
      ],
      "metadata": {
        "id": "ImTNZKrA9SdL"
      }
    },
    {
      "cell_type": "markdown",
      "source": [
        "# **📘 Colab Notebook Title: Generate_Spanish_Audio.ipynb**"
      ],
      "metadata": {
        "id": "ageNbchn7UoY"
      }
    },
    {
      "cell_type": "code",
      "source": [
        "# 📦 Install dependencies (run once per session)\n",
        "!pip install -q gTTS deep-translator pandas\n"
      ],
      "metadata": {
        "id": "iIjuKbyD7f_E"
      },
      "execution_count": null,
      "outputs": []
    },
    {
      "cell_type": "code",
      "source": [
        "# 📂 Mount Google Drive\n",
        "from google.colab import drive\n",
        "drive.mount('/content/drive')\n",
        "\n"
      ],
      "metadata": {
        "id": "0P5seoMb_Fec"
      },
      "execution_count": null,
      "outputs": []
    },
    {
      "cell_type": "code",
      "source": [
        "# ============================================================\n",
        "# 🎧 Generate Spanish Audio for HealthTequity Case Study\n",
        "# ============================================================\n",
        "# Author: Nasrin Attaran\n",
        "# Description:\n",
        "#   Translates English questions into Spanish, generates Spanish\n",
        "#   audio (.wav), and saves a single ground_truth.csv file in\n",
        "#   /data/synthetic_csv for ASR evaluation.\n",
        "# ============================================================\n",
        "\n",
        "# --- Install required libraries ---\n",
        "\n",
        "\n",
        "# --- Imports ---\n",
        "from gtts import gTTS\n",
        "from deep_translator import GoogleTranslator\n",
        "import os, pandas as pd\n",
        "\n",
        "# ------------------------------------------------------------\n",
        "# 📁 Project Folders\n",
        "# ------------------------------------------------------------\n",
        "PROJECT_ROOT = \"/content/drive/MyDrive/HealthTequity-LLM\"\n",
        "AUDIO_OUTPUT_FOLDER = os.path.join(PROJECT_ROOT, \"data/Spanish_audio\")\n",
        "GROUNDTRUTH_FOLDER  = os.path.join(PROJECT_ROOT, \"data/synthetic_csv\")\n",
        "\n",
        "# ------------------------------------------------------------\n",
        "# ⚙️ Function Definition\n",
        "# ------------------------------------------------------------\n",
        "def generate_spanish_audio_from_english(\n",
        "    english_questions: list[str],\n",
        "    audio_output_folder: str,\n",
        "    groundtruth_folder: str,\n",
        "    prefix: str = \"q\"\n",
        ") -> pd.DataFrame:\n",
        "    \"\"\"\n",
        "    Translates English questions into Spanish, generates Spanish audio,\n",
        "    and saves only 'ground_truth.csv' (no generated_questions.csv).\n",
        "\n",
        "    Args:\n",
        "        english_questions: List of English question strings.\n",
        "        audio_output_folder: Folder to save generated .wav files.\n",
        "        groundtruth_folder: Folder to save ground_truth.csv.\n",
        "        prefix: Prefix for generated audio files (default 'q').\n",
        "\n",
        "    Returns:\n",
        "        DataFrame with Spanish transcriptions and filenames.\n",
        "    \"\"\"\n",
        "\n",
        "    # ============================================================\n",
        "    # 🧹 Step 1 – Prepare output folders\n",
        "    # ============================================================\n",
        "    os.makedirs(audio_output_folder, exist_ok=True)\n",
        "    os.makedirs(groundtruth_folder, exist_ok=True)\n",
        "\n",
        "    # Clean only .wav files in audio folder\n",
        "    for f in os.listdir(audio_output_folder):\n",
        "        if f.endswith(\".wav\"):\n",
        "            os.remove(os.path.join(audio_output_folder, f))\n",
        "    print(f\"📁 Audio folder ready: {audio_output_folder}\")\n",
        "    print(f\"📁 Ground truth folder ready: {groundtruth_folder}\")\n",
        "\n",
        "    # ============================================================\n",
        "    # 🌍 Step 2 – Translate English → Spanish & generate audio\n",
        "    # ============================================================\n",
        "    translator = GoogleTranslator(source=\"en\", target=\"es\")\n",
        "    results = []\n",
        "\n",
        "    for i, q_en in enumerate(english_questions, 1):\n",
        "        try:\n",
        "            q_es = translator.translate(q_en)\n",
        "            audio_file = f\"{prefix}{i}_es.wav\"\n",
        "            audio_path = os.path.join(audio_output_folder, audio_file)\n",
        "\n",
        "            tts = gTTS(text=q_es, lang=\"es\")\n",
        "            tts.save(audio_path)\n",
        "\n",
        "            results.append({\"audio_file\": audio_file, \"ground_truth\": q_es})\n",
        "            print(f\"🎧 {audio_file} → {q_es}\")\n",
        "\n",
        "        except Exception as e:\n",
        "            print(f\"⚠️ Error generating audio for question {i}: {e}\")\n",
        "\n",
        "    # ============================================================\n",
        "    # 🧾 Step 3 – Save Ground Truth Only\n",
        "    # ============================================================\n",
        "    gt_csv = os.path.join(groundtruth_folder, \"ground_truth.csv\")\n",
        "    pd.DataFrame(results).to_csv(gt_csv, index=False, encoding=\"utf-8-sig\")\n",
        "\n",
        "    # ============================================================\n",
        "    # ✅ Step 4 – Summary\n",
        "    # ============================================================\n",
        "    print(f\"\\n✅ {len(results)} Spanish audio files generated.\")\n",
        "    print(f\"📄 Ground truth CSV saved to: {gt_csv}\")\n",
        "\n",
        "    return pd.DataFrame(results)\n",
        "\n",
        "\n",
        "# ------------------------------------------------------------\n",
        "# 📋 Sample English Questions\n",
        "# ------------------------------------------------------------\n",
        "english_questions = [\n",
        "    \"What are my systolic and diastolic blood pressures today?\",\n",
        "    \"What were my blood pressure readings over the last week?\",\n",
        "    \"What is the overall trend of my blood pressure this month?\",\n",
        "    \"What are the normal blood pressure ranges for someone my age?\",\n",
        "    \"What was my blood pressure on October 10th?\",\n",
        "    \"What was my systolic blood pressure on October 12th?\",\n",
        "    \"What was my diastolic blood pressure on September 30th?\",\n",
        "    \"On which day did my systolic pressure exceed 140 mm Hg?\",\n",
        "    \"Compare my average blood pressure from the first week to the last week of this month.\",\n",
        "    \"What was the lowest diastolic blood pressure recorded this month?\",\n",
        "    \"Show me the highest and lowest systolic values recorded so far.\",\n",
        "    \"What is the max and min of diastolic and systolic blood pressure this month?\"\n",
        "]\n",
        "\n",
        "# ------------------------------------------------------------\n",
        "# 🚀 Run the Audio Generation Pipeline\n",
        "# ------------------------------------------------------------\n",
        "df_gt = generate_spanish_audio_from_english(\n",
        "    english_questions,\n",
        "    audio_output_folder=AUDIO_OUTPUT_FOLDER,\n",
        "    groundtruth_folder=GROUNDTRUTH_FOLDER\n",
        ")\n",
        "\n",
        "# Optional preview\n",
        "df_gt.head()\n"
      ],
      "metadata": {
        "id": "Uf-yM7kk_jza"
      },
      "execution_count": null,
      "outputs": []
    }
  ]
}